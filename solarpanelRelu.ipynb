{
  "nbformat": 4,
  "nbformat_minor": 0,
  "metadata": {
    "colab": {
      "provenance": []
    },
    "kernelspec": {
      "name": "python3",
      "display_name": "Python 3"
    },
    "language_info": {
      "name": "python"
    }
  },
  "cells": [
    {
      "cell_type": "code",
      "execution_count": 1,
      "metadata": {
        "colab": {
          "base_uri": "https://localhost:8080/"
        },
        "id": "O0PQHE2VuLEl",
        "outputId": "226bf9fa-1105-467d-c69c-9e998f5208cf"
      },
      "outputs": [
        {
          "output_type": "stream",
          "name": "stdout",
          "text": [
            "Mounted at /content/drive\n"
          ]
        }
      ],
      "source": [
        "#My dataset is available in googledrive; so I am accessing my drive from colab\n",
        "from google.colab import drive\n",
        "drive.mount('/content/drive', force_remount=True)\n",
        "#Once this is executed, you will see your drive appearing on the left hand side"
      ]
    },
    {
      "cell_type": "code",
      "source": [
        "import tensorflow as tf\n",
        "from tensorflow.keras.preprocessing.image import ImageDataGenerator\n",
        "from tensorflow.keras import Sequential\n",
        "from tensorflow.keras.layers import Dense, Conv2D, MaxPooling2D, Flatten, BatchNormalization, Dropout\n",
        "from tensorflow.keras.optimizers import Adam\n",
        "\n",
        "# Define the directory containing the dataset\n",
        "train_dir = \"/content/drive/MyDrive/Faulty_solar_panel\"\n",
        "\n",
        "# Create ImageDataGenerator for data augmentation and splitting\n",
        "datagen = ImageDataGenerator(\n",
        "    rescale=1./255,\n",
        "    validation_split=0.2  # Split 20% of data for validation\n",
        ")\n",
        "\n",
        "# Load and prepare training data\n",
        "train_data = datagen.flow_from_directory(\n",
        "    train_dir,\n",
        "    target_size=(256, 256),\n",
        "    batch_size=32,\n",
        "    class_mode='binary',  # For binary classification\n",
        "    subset='training'  # Specify training set\n",
        ")"
      ],
      "metadata": {
        "colab": {
          "base_uri": "https://localhost:8080/"
        },
        "id": "dSOUePngvMW4",
        "outputId": "59220a88-0d87-4602-e879-8943827185ad"
      },
      "execution_count": 2,
      "outputs": [
        {
          "output_type": "stream",
          "name": "stdout",
          "text": [
            "Found 601 images belonging to 2 classes.\n"
          ]
        }
      ]
    },
    {
      "cell_type": "code",
      "source": [],
      "metadata": {
        "id": "qGLYnThEvqnz"
      },
      "execution_count": null,
      "outputs": []
    },
    {
      "cell_type": "code",
      "source": [
        "\n",
        "\n",
        "# Load and prepare validation data\n",
        "validation_data = datagen.flow_from_directory(\n",
        "    train_dir,\n",
        "    target_size=(256, 256),\n",
        "    batch_size=32,\n",
        "    class_mode='binary',  # For binary classification\n",
        "    subset='validation'  # Specify validation set\n",
        ")\n",
        "\n",
        "# Create CNN model\n",
        "model = Sequential([\n",
        "    Conv2D(32, kernel_size=(3, 3), activation='relu', input_shape=(256, 256, 3)),\n",
        "    MaxPooling2D(pool_size=(2, 2)),\n",
        "    Conv2D(64, kernel_size=(3, 3), activation='relu'),\n",
        "    MaxPooling2D(pool_size=(2, 2)),\n",
        "    Conv2D(128, kernel_size=(3, 3), activation='relu'),\n",
        "    MaxPooling2D(pool_size=(2, 2)),\n",
        "    Flatten(),\n",
        "    Dense(128, activation='relu'),\n",
        "    Dropout(0.5),\n",
        "    Dense(64, activation='relu'),\n",
        "    Dense(1, activation='sigmoid')  # Binary output\n",
        "])\n",
        "\n",
        "# Compile the model\n",
        "model.compile(\n",
        "    optimizer=Adam(learning_rate=0.001),\n",
        "    loss='binary_crossentropy',\n",
        "    metrics=['accuracy']\n",
        ")\n",
        "\n",
        "# Train the model\n",
        "history = model.fit(\n",
        "    train_data,\n",
        "    epochs=20,\n",
        "    validation_data=validation_data\n",
        ")\n",
        "\n",
        "# Save the model (optional)\n",
        "model.save('/content/drive/MyDrive/faulty_solar_panel_model.h5')\n"
      ],
      "metadata": {
        "colab": {
          "base_uri": "https://localhost:8080/"
        },
        "id": "l7avN-yfvG4C",
        "outputId": "c0f773d9-22e5-4170-a541-ef89a16e5316"
      },
      "execution_count": 3,
      "outputs": [
        {
          "metadata": {
            "tags": null
          },
          "name": "stdout",
          "output_type": "stream",
          "text": [
            "Found 149 images belonging to 2 classes.\n"
          ]
        },
        {
          "metadata": {
            "tags": null
          },
          "name": "stderr",
          "output_type": "stream",
          "text": [
            "/usr/local/lib/python3.10/dist-packages/keras/src/layers/convolutional/base_conv.py:107: UserWarning: Do not pass an `input_shape`/`input_dim` argument to a layer. When using Sequential models, prefer using an `Input(shape)` object as the first layer in the model instead.\n",
            "  super().__init__(activity_regularizer=activity_regularizer, **kwargs)\n"
          ]
        },
        {
          "metadata": {
            "tags": null
          },
          "name": "stdout",
          "output_type": "stream",
          "text": [
            "Epoch 1/20\n"
          ]
        },
        {
          "metadata": {
            "tags": null
          },
          "name": "stderr",
          "output_type": "stream",
          "text": [
            "/usr/local/lib/python3.10/dist-packages/keras/src/trainers/data_adapters/py_dataset_adapter.py:122: UserWarning: Your `PyDataset` class should call `super().__init__(**kwargs)` in its constructor. `**kwargs` can include `workers`, `use_multiprocessing`, `max_queue_size`. Do not pass these arguments to `fit()`, as they will be ignored.\n",
            "  self._warn_if_super_not_called()\n"
          ]
        },
        {
          "output_type": "stream",
          "name": "stdout",
          "text": [
            "\u001b[1m19/19\u001b[0m \u001b[32m━━━━━━━━━━━━━━━━━━━━\u001b[0m\u001b[37m\u001b[0m \u001b[1m159s\u001b[0m 7s/step - accuracy: 0.6818 - loss: 0.8886 - val_accuracy: 0.7718 - val_loss: 0.4962\n",
            "Epoch 2/20\n",
            "\u001b[1m19/19\u001b[0m \u001b[32m━━━━━━━━━━━━━━━━━━━━\u001b[0m\u001b[37m\u001b[0m \u001b[1m174s\u001b[0m 6s/step - accuracy: 0.7816 - loss: 0.4930 - val_accuracy: 0.7584 - val_loss: 0.5347\n",
            "Epoch 3/20\n",
            "\u001b[1m19/19\u001b[0m \u001b[32m━━━━━━━━━━━━━━━━━━━━\u001b[0m\u001b[37m\u001b[0m \u001b[1m133s\u001b[0m 6s/step - accuracy: 0.7947 - loss: 0.5049 - val_accuracy: 0.7517 - val_loss: 0.5181\n",
            "Epoch 4/20\n",
            "\u001b[1m19/19\u001b[0m \u001b[32m━━━━━━━━━━━━━━━━━━━━\u001b[0m\u001b[37m\u001b[0m \u001b[1m125s\u001b[0m 6s/step - accuracy: 0.8305 - loss: 0.3687 - val_accuracy: 0.7517 - val_loss: 0.5547\n",
            "Epoch 5/20\n",
            "\u001b[1m19/19\u001b[0m \u001b[32m━━━━━━━━━━━━━━━━━━━━\u001b[0m\u001b[37m\u001b[0m \u001b[1m136s\u001b[0m 6s/step - accuracy: 0.8279 - loss: 0.4828 - val_accuracy: 0.7517 - val_loss: 0.4925\n",
            "Epoch 6/20\n",
            "\u001b[1m19/19\u001b[0m \u001b[32m━━━━━━━━━━━━━━━━━━━━\u001b[0m\u001b[37m\u001b[0m \u001b[1m118s\u001b[0m 6s/step - accuracy: 0.8052 - loss: 0.4108 - val_accuracy: 0.7114 - val_loss: 0.5084\n",
            "Epoch 7/20\n",
            "\u001b[1m19/19\u001b[0m \u001b[32m━━━━━━━━━━━━━━━━━━━━\u001b[0m\u001b[37m\u001b[0m \u001b[1m152s\u001b[0m 6s/step - accuracy: 0.8336 - loss: 0.4186 - val_accuracy: 0.6577 - val_loss: 0.5533\n",
            "Epoch 8/20\n",
            "\u001b[1m19/19\u001b[0m \u001b[32m━━━━━━━━━━━━━━━━━━━━\u001b[0m\u001b[37m\u001b[0m \u001b[1m119s\u001b[0m 6s/step - accuracy: 0.8523 - loss: 0.3673 - val_accuracy: 0.6376 - val_loss: 0.6782\n",
            "Epoch 9/20\n",
            "\u001b[1m19/19\u001b[0m \u001b[32m━━━━━━━━━━━━━━━━━━━━\u001b[0m\u001b[37m\u001b[0m \u001b[1m141s\u001b[0m 6s/step - accuracy: 0.8465 - loss: 0.3522 - val_accuracy: 0.7181 - val_loss: 0.5673\n",
            "Epoch 10/20\n",
            "\u001b[1m19/19\u001b[0m \u001b[32m━━━━━━━━━━━━━━━━━━━━\u001b[0m\u001b[37m\u001b[0m \u001b[1m118s\u001b[0m 6s/step - accuracy: 0.9017 - loss: 0.2687 - val_accuracy: 0.7181 - val_loss: 0.5229\n",
            "Epoch 11/20\n",
            "\u001b[1m19/19\u001b[0m \u001b[32m━━━━━━━━━━━━━━━━━━━━\u001b[0m\u001b[37m\u001b[0m \u001b[1m143s\u001b[0m 6s/step - accuracy: 0.9278 - loss: 0.1744 - val_accuracy: 0.7517 - val_loss: 0.4876\n",
            "Epoch 12/20\n",
            "\u001b[1m19/19\u001b[0m \u001b[32m━━━━━━━━━━━━━━━━━━━━\u001b[0m\u001b[37m\u001b[0m \u001b[1m141s\u001b[0m 6s/step - accuracy: 0.9555 - loss: 0.1324 - val_accuracy: 0.8121 - val_loss: 0.5157\n",
            "Epoch 13/20\n",
            "\u001b[1m19/19\u001b[0m \u001b[32m━━━━━━━━━━━━━━━━━━━━\u001b[0m\u001b[37m\u001b[0m \u001b[1m117s\u001b[0m 6s/step - accuracy: 0.9515 - loss: 0.1348 - val_accuracy: 0.7987 - val_loss: 0.6793\n",
            "Epoch 14/20\n",
            "\u001b[1m19/19\u001b[0m \u001b[32m━━━━━━━━━━━━━━━━━━━━\u001b[0m\u001b[37m\u001b[0m \u001b[1m143s\u001b[0m 6s/step - accuracy: 0.9749 - loss: 0.0749 - val_accuracy: 0.8188 - val_loss: 0.7188\n",
            "Epoch 15/20\n",
            "\u001b[1m19/19\u001b[0m \u001b[32m━━━━━━━━━━━━━━━━━━━━\u001b[0m\u001b[37m\u001b[0m \u001b[1m144s\u001b[0m 6s/step - accuracy: 0.9872 - loss: 0.0406 - val_accuracy: 0.7987 - val_loss: 0.6947\n",
            "Epoch 16/20\n",
            "\u001b[1m19/19\u001b[0m \u001b[32m━━━━━━━━━━━━━━━━━━━━\u001b[0m\u001b[37m\u001b[0m \u001b[1m116s\u001b[0m 6s/step - accuracy: 0.9819 - loss: 0.0733 - val_accuracy: 0.7919 - val_loss: 0.7843\n",
            "Epoch 17/20\n",
            "\u001b[1m19/19\u001b[0m \u001b[32m━━━━━━━━━━━━━━━━━━━━\u001b[0m\u001b[37m\u001b[0m \u001b[1m143s\u001b[0m 6s/step - accuracy: 0.9662 - loss: 0.0972 - val_accuracy: 0.8188 - val_loss: 0.8875\n",
            "Epoch 18/20\n",
            "\u001b[1m19/19\u001b[0m \u001b[32m━━━━━━━━━━━━━━━━━━━━\u001b[0m\u001b[37m\u001b[0m \u001b[1m116s\u001b[0m 6s/step - accuracy: 0.9753 - loss: 0.0502 - val_accuracy: 0.7919 - val_loss: 1.0271\n",
            "Epoch 19/20\n",
            "\u001b[1m19/19\u001b[0m \u001b[32m━━━━━━━━━━━━━━━━━━━━\u001b[0m\u001b[37m\u001b[0m \u001b[1m142s\u001b[0m 6s/step - accuracy: 0.9872 - loss: 0.0450 - val_accuracy: 0.8121 - val_loss: 1.1947\n",
            "Epoch 20/20\n",
            "\u001b[1m19/19\u001b[0m \u001b[32m━━━━━━━━━━━━━━━━━━━━\u001b[0m\u001b[37m\u001b[0m \u001b[1m143s\u001b[0m 6s/step - accuracy: 0.9954 - loss: 0.0131 - val_accuracy: 0.7987 - val_loss: 1.2205\n"
          ]
        },
        {
          "output_type": "stream",
          "name": "stderr",
          "text": [
            "WARNING:absl:You are saving your model as an HDF5 file via `model.save()` or `keras.saving.save_model(model)`. This file format is considered legacy. We recommend using instead the native Keras format, e.g. `model.save('my_model.keras')` or `keras.saving.save_model(model, 'my_model.keras')`. \n"
          ]
        }
      ]
    },
    {
      "cell_type": "code",
      "source": [
        "\n",
        "# Plotting the training history for accuracy and loss\n",
        "# This is useful to visualize how well the model is performing during training and validation\n",
        "plt.plot(history.history['accuracy'], color='red', label='train')  # Plot training accuracy\n",
        "plt.plot(history.history['val_accuracy'], color='blue', label='validation')  # Plot validation accuracy\n",
        "plt.title('Training vs Validation Accuracy')  # Title for the accuracy plot\n",
        "plt.xlabel('Epochs')  # X-axis label (Epochs)\n",
        "plt.ylabel('Accuracy')  # Y-axis label (Accuracy)\n",
        "plt.legend()  # Show legend\n",
        "plt.show()  # Display the plot\n",
        "\n",
        "plt.plot(history.history['loss'], color='red', label='train')  # Plot training loss\n",
        "plt.plot(history.history['val_loss'], color='blue', label='validation')  # Plot validation loss\n",
        "plt.title('Training vs Validation Loss')  # Title for the loss plot\n",
        "plt.xlabel('Epochs')  # X-axis label (Epochs)\n",
        "plt.ylabel('Loss')  # Y-axis label (Loss)\n",
        "plt.legend()  # Show legend\n",
        "plt.show()  # Display the plot\n",
        "\n",
        "# Now you need to test the model on the same images used for validation (treated as test)\n",
        "# Define test data generator (same as validation generator)\n",
        "test_datagen = ImageDataGenerator(rescale=1./255, validation_split=0.2)  # Apply same validation split for testing\n",
        "\n",
        "# Load the \"test\" data from the same directory, using the validation split\n",
        "test_data = test_datagen.flow_from_directory(\n",
        "    train_dir,  # Use the same train directory\n",
        "    target_size=(256, 256),  # Resize all images to 256x256\n",
        "    batch_size=32,  # Use a batch size of 32\n",
        "    class_mode='binary',  # For binary classification\n",
        "    subset='validation'  # Treat the validation subset as the test set\n",
        ")\n",
        "\n",
        "# Load the trained model\n",
        "model = load_model('/content/drive/MyDrive/faulty_solar_panel_model.h5')  # Load the trained model\n",
        "\n",
        "# Evaluate the model on the test data\n",
        "test_loss, test_accuracy = model.evaluate(test_data)  # Evaluate model on the test data\n",
        "\n",
        "# Print test results\n",
        "print(f\"Test Loss: {test_loss:.4f}\")\n",
        "print(f\"Test Accuracy: {test_accuracy:.4f}\")"
      ],
      "metadata": {
        "colab": {
          "base_uri": "https://localhost:8080/",
          "height": 1000
        },
        "id": "EuiLKdOh6-rB",
        "outputId": "14808082-874c-4b75-9bbf-e6abd3f753a0"
      },
      "execution_count": 7,
      "outputs": [
        {
          "output_type": "display_data",
          "data": {
            "text/plain": [
              "<Figure size 640x480 with 1 Axes>"
            ],
            "image/png": "[encoded data removed]"
          },
          "metadata": {}
        },
        {
          "output_type": "display_data",
          "data": {
            "text/plain": [
              "<Figure size 640x480 with 1 Axes>"
            ],
            "image/png": "[encoded data removed]"
          },
          "metadata": {}
        },
        {
          "output_type": "stream",
          "name": "stdout",
          "text": [
            "Found 149 images belonging to 2 classes.\n"
          ]
        },
        {
          "output_type": "stream",
          "name": "stderr",
          "text": [
            "WARNING:absl:Compiled the loaded model, but the compiled metrics have yet to be built. `model.compile_metrics` will be empty until you train or evaluate the model.\n"
          ]
        },
        {
          "output_type": "stream",
          "name": "stdout",
          "text": [
            "\u001b[1m5/5\u001b[0m \u001b[32m━━━━━━━━━━━━━━━━━━━━\u001b[0m\u001b[37m\u001b[0m \u001b[1m11s\u001b[0m 2s/step - accuracy: 0.8053 - loss: 1.1055\n",
            "Test Loss: 1.2205\n",
            "Test Accuracy: 0.7987\n"
          ]
        }
      ]
    },
    {
      "cell_type": "code",
      "source": [
        "import matplotlib.pyplot as plt\n",
        "from tensorflow.keras.preprocessing.image import ImageDataGenerator\n",
        "from sklearn.metrics import confusion_matrix, classification_report\n",
        "from tensorflow.keras.models import load_model\n",
        "\n",
        "# Define the test data generator (same as for validation)\n",
        "test_datagen = ImageDataGenerator(rescale=1./255, validation_split=0.2)  # Rescale images and use the validation split\n",
        "\n",
        "# Load the \"test\" data from the same directory as the train data, using the validation subset\n",
        "test_data = test_datagen.flow_from_directory(\n",
        "    '/content/drive/MyDrive/Faulty_solar_panel',  # Use the same directory for both train and test\n",
        "    target_size=(256, 256),  # Resize images to 256x256\n",
        "    batch_size=32,  # Use a batch size of 32\n",
        "    class_mode='binary',  # Binary classification (clean vs. defective)\n",
        "    subset='validation'  # Use the validation subset as the test set\n",
        ")\n",
        "\n",
        "# Load the trained model (ensure this path is correct)\n",
        "model = load_model('/content/drive/MyDrive/faulty_solar_panel_model.h5')\n",
        "\n",
        "# Predict on the test data\n",
        "predictions = model.predict(test_data)\n",
        "\n",
        "# Assuming the true labels are in test_data.classes, and predictions are binary (0 or 1)\n",
        "true_labels = test_data.classes  # Ground truth labels\n",
        "predicted_labels = (predictions > 0.5).astype(int)  # Convert predicted probabilities to binary labels\n",
        "\n",
        "# Calculate the confusion matrix\n",
        "cm = confusion_matrix(true_labels, predicted_labels)\n",
        "\n",
        "# Print the confusion matrix\n",
        "print(\"Confusion Matrix:\")\n",
        "print(cm)\n",
        "\n",
        "# Print the classification report (includes precision, recall, F1-score, etc.)\n",
        "print(\"Classification Report:\")\n",
        "print(classification_report(true_labels, predicted_labels))\n"
      ],
      "metadata": {
        "colab": {
          "base_uri": "https://localhost:8080/"
        },
        "id": "SY6qFhUq7Zg5",
        "outputId": "ee469f1b-3293-4ce3-cd5d-3aa07ad35b31"
      },
      "execution_count": 10,
      "outputs": [
        {
          "output_type": "stream",
          "name": "stdout",
          "text": [
            "Found 149 images belonging to 2 classes.\n"
          ]
        },
        {
          "output_type": "stream",
          "name": "stderr",
          "text": [
            "WARNING:absl:Compiled the loaded model, but the compiled metrics have yet to be built. `model.compile_metrics` will be empty until you train or evaluate the model.\n",
            "/usr/local/lib/python3.10/dist-packages/keras/src/trainers/data_adapters/py_dataset_adapter.py:122: UserWarning: Your `PyDataset` class should call `super().__init__(**kwargs)` in its constructor. `**kwargs` can include `workers`, `use_multiprocessing`, `max_queue_size`. Do not pass these arguments to `fit()`, as they will be ignored.\n",
            "  self._warn_if_super_not_called()\n"
          ]
        },
        {
          "output_type": "stream",
          "name": "stdout",
          "text": [
            "\u001b[1m5/5\u001b[0m \u001b[32m━━━━━━━━━━━━━━━━━━━━\u001b[0m\u001b[37m\u001b[0m \u001b[1m10s\u001b[0m 2s/step\n",
            "Confusion Matrix:\n",
            "[[ 8 30]\n",
            " [32 79]]\n",
            "Classification Report:\n",
            "              precision    recall  f1-score   support\n",
            "\n",
            "           0       0.20      0.21      0.21        38\n",
            "           1       0.72      0.71      0.72       111\n",
            "\n",
            "    accuracy                           0.58       149\n",
            "   macro avg       0.46      0.46      0.46       149\n",
            "weighted avg       0.59      0.58      0.59       149\n",
            "\n"
          ]
        }
      ]
    },
    {
      "cell_type": "code",
      "source": [
        "#Reducing overfitting by fine tunning"
      ],
      "metadata": {
        "id": "ZBj-3TuA8T8x"
      },
      "execution_count": null,
      "outputs": []
    },
    {
      "cell_type": "code",
      "source": [
        "import tensorflow as tf\n",
        "from tensorflow.keras.preprocessing.image import ImageDataGenerator\n",
        "from tensorflow.keras.models import Sequential\n",
        "from tensorflow.keras.layers import Conv2D, MaxPooling2D, Flatten, Dense, Dropout, BatchNormalization\n",
        "from tensorflow.keras.optimizers import Adam\n",
        "\n",
        "# Set up ImageDataGenerator with validation split (since you have only one folder)\n",
        "train_datagen = ImageDataGenerator(\n",
        "    rescale=1./255,\n",
        "    validation_split=0.2  # 20% for validation\n",
        ")\n",
        "\n",
        "# Load and prepare data from the directory, split by 'training' and 'validation'\n",
        "train_data = train_datagen.flow_from_directory(\n",
        "    \"/content/drive/MyDrive/Faulty_solar_panel\",  # Path to your main folder\n",
        "    target_size=(256, 256),  # Resize all images to 256x256\n",
        "    batch_size=32,\n",
        "    class_mode='binary',  # Binary classification\n",
        "    subset='training'  # For training set\n",
        ")\n",
        "\n",
        "# Validation data (using the same directory and validation split)\n",
        "validation_data = train_datagen.flow_from_directory(\n",
        "    \"/content/drive/MyDrive/Faulty_solar_panel\",  # Path to your main folder\n",
        "    target_size=(256, 256),\n",
        "    batch_size=32,\n",
        "    class_mode='binary',  # Binary classification\n",
        "    subset='validation'  # For validation set\n",
        ")\n",
        "\n",
        "# Create CNN model\n",
        "model = Sequential()\n",
        "\n",
        "model.add(Conv2D(32, kernel_size=(3, 3), padding='valid', activation='relu', input_shape=(256, 256, 3)))  # 32 filters\n",
        "model.add(BatchNormalization())  # Added to reduce overfitting\n",
        "model.add(MaxPooling2D(pool_size=(2, 2), strides=2, padding='valid'))\n",
        "\n",
        "model.add(Conv2D(64, kernel_size=(3, 3), padding='valid', activation='relu'))\n",
        "model.add(BatchNormalization())  # Added to reduce overfitting\n",
        "model.add(MaxPooling2D(pool_size=(2, 2), strides=2, padding='valid'))\n",
        "\n",
        "model.add(Conv2D(128, kernel_size=(3, 3), padding='valid', activation='relu'))\n",
        "model.add(BatchNormalization())  # Added to reduce overfitting\n",
        "model.add(MaxPooling2D(pool_size=(2, 2), strides=2, padding='valid'))\n",
        "\n",
        "model.add(Flatten())  # Flatten to feed into dense layers\n",
        "\n",
        "model.add(Dense(128, activation='relu'))  # Feature reduction\n",
        "model.add(Dropout(0.3))  # Dropout added to reduce overfitting\n",
        "model.add(Dense(64, activation='relu'))\n",
        "model.add(Dropout(0.3))  # Dropout added to reduce overfitting\n",
        "model.add(Dense(1, activation='sigmoid'))  # Output layer for binary classification\n",
        "\n",
        "# Compile the model\n",
        "model.compile(optimizer=Adam(learning_rate=0.001), loss='binary_crossentropy', metrics=['accuracy'])\n",
        "\n",
        "# Train the model\n",
        "history = model.fit(train_data, epochs=20, validation_data=validation_data)\n",
        "\n",
        "# can also plot training/validation accuracy and loss if needed\n",
        "import matplotlib.pyplot as plt\n",
        "\n",
        "# Plot training vs validation accuracy\n",
        "plt.plot(history.history['accuracy'], color='red', label='train')\n",
        "plt.plot(history.history['val_accuracy'], color='blue', label='validation')\n",
        "plt.title('Training vs Validation Accuracy')\n",
        "plt.xlabel('Epochs')\n",
        "plt.ylabel('Accuracy')\n",
        "plt.legend()\n",
        "plt.show()\n",
        "\n",
        "# Plot training vs validation loss\n",
        "plt.plot(history.history['loss'], color='red', label='train')\n",
        "plt.plot(history.history['val_loss'], color='blue', label='validation')\n",
        "plt.title('Training vs Validation Loss')\n",
        "plt.xlabel('Epochs')\n",
        "plt.ylabel('Loss')\n",
        "plt.legend()\n",
        "plt.show()\n",
        "# Evaluate the model on the test data\n",
        "test_loss, test_accuracy = model.evaluate(test_data)  # Evaluate model on the test data\n",
        "\n",
        "# Print test results\n",
        "print(f\"Test Loss: {test_loss:.4f}\")\n",
        "print(f\"Test Accuracy: {test_accuracy:.4f}\")"
      ],
      "metadata": {
        "id": "YBRpRfpa9Q-F"
      },
      "execution_count": null,
      "outputs": []
    },
    {
      "cell_type": "code",
      "source": [],
      "metadata": {
        "id": "j1DWQyUgZtRh"
      },
      "execution_count": null,
      "outputs": []
    },
    {
      "cell_type": "code",
      "source": [
        "from sklearn.metrics import confusion_matrix, classification_report\n",
        "import numpy as np\n",
        "\n",
        "# Get predictions on validation data\n",
        "predictions = model.predict(validation_data)\n",
        "\n",
        "# Extract ground truth labels (true labels)\n",
        "true_labels = validation_data.classes\n",
        "\n",
        "# Predicted labels: apply threshold to predictions (0.5 for binary classification)\n",
        "predicted_labels = (predictions > 0.5).astype(int)\n",
        "\n",
        "# Calculate confusion matrix\n",
        "cm = confusion_matrix(true_labels, predicted_labels)\n",
        "\n",
        "# Print confusion matrix\n",
        "print(\"Confusion Matrix:\")\n",
        "print(cm)\n",
        "\n",
        "# Print classification report\n",
        "print(\"Classification Report:\")\n",
        "print(classification_report(true_labels, predicted_labels))\n",
        "\n",
        "# Optional: Plot the confusion matrix\n",
        "import seaborn as sns\n",
        "plt.figure(figsize=(6, 6))\n",
        "sns.heatmap(cm, annot=True, fmt='d', cmap='Blues', xticklabels=validation_data.class_indices.keys(), yticklabels=validation_data.class_indices.keys())\n",
        "plt.title(\"Confusion Matrix\")\n",
        "plt.xlabel('Predicted')\n",
        "plt.ylabel('True')\n",
        "plt.show()\n"
      ],
      "metadata": {
        "colab": {
          "base_uri": "https://localhost:8080/",
          "height": 862
        },
        "id": "8sOyiKsN9r9X",
        "outputId": "23560435-028b-4190-beec-de0049d129e0"
      },
      "execution_count": 16,
      "outputs": [
        {
          "output_type": "stream",
          "name": "stderr",
          "text": [
            "WARNING:tensorflow:5 out of the last 11 calls to <function TensorFlowTrainer.make_predict_function.<locals>.one_step_on_data_distributed at 0x7c2aeef56830> triggered tf.function retracing. Tracing is expensive and the excessive number of tracings could be due to (1) creating @tf.function repeatedly in a loop, (2) passing tensors with different shapes, (3) passing Python objects instead of tensors. For (1), please define your @tf.function outside of the loop. For (2), @tf.function has reduce_retracing=True option that can avoid unnecessary retracing. For (3), please refer to https://www.tensorflow.org/guide/function#controlling_retracing and https://www.tensorflow.org/api_docs/python/tf/function for  more details.\n"
          ]
        },
        {
          "output_type": "stream",
          "name": "stdout",
          "text": [
            "\u001b[1m4/5\u001b[0m \u001b[32m━━━━━━━━━━━━━━━━\u001b[0m\u001b[37m━━━━\u001b[0m \u001b[1m3s\u001b[0m 3s/step"
          ]
        },
        {
          "output_type": "stream",
          "name": "stderr",
          "text": [
            "WARNING:tensorflow:5 out of the last 11 calls to <function TensorFlowTrainer.make_predict_function.<locals>.one_step_on_data_distributed at 0x7c2aeef56830> triggered tf.function retracing. Tracing is expensive and the excessive number of tracings could be due to (1) creating @tf.function repeatedly in a loop, (2) passing tensors with different shapes, (3) passing Python objects instead of tensors. For (1), please define your @tf.function outside of the loop. For (2), @tf.function has reduce_retracing=True option that can avoid unnecessary retracing. For (3), please refer to https://www.tensorflow.org/guide/function#controlling_retracing and https://www.tensorflow.org/api_docs/python/tf/function for  more details.\n"
          ]
        },
        {
          "output_type": "stream",
          "name": "stdout",
          "text": [
            "\u001b[1m5/5\u001b[0m \u001b[32m━━━━━━━━━━━━━━━━━━━━\u001b[0m\u001b[37m\u001b[0m \u001b[1m15s\u001b[0m 3s/step\n",
            "Confusion Matrix:\n",
            "[[ 36   2]\n",
            " [111   0]]\n",
            "Classification Report:\n",
            "              precision    recall  f1-score   support\n",
            "\n",
            "           0       0.24      0.95      0.39        38\n",
            "           1       0.00      0.00      0.00       111\n",
            "\n",
            "    accuracy                           0.24       149\n",
            "   macro avg       0.12      0.47      0.19       149\n",
            "weighted avg       0.06      0.24      0.10       149\n",
            "\n"
          ]
        },
        {
          "output_type": "display_data",
          "data": {
            "text/plain": [
              "<Figure size 600x600 with 2 Axes>"
            ],
            "image/png": "[encoded data removed]"
          },
          "metadata": {}
        }
      ]
    },
    {
      "cell_type": "code",
      "source": [
        "#now pretrained model"
      ],
      "metadata": {
        "id": "UW9SH1p3N-Jy"
      },
      "execution_count": null,
      "outputs": []
    },
    {
      "cell_type": "code",
      "source": [
        "import tensorflow as tf\n",
        "from tensorflow.keras.models import Sequential\n",
        "from tensorflow.keras.layers import Dense, Flatten\n",
        "from tensorflow.keras.optimizers import Adam\n",
        "from tensorflow.keras.preprocessing.image import ImageDataGenerator\n",
        "\n",
        "# Set up ImageDataGenerator with validation split\n",
        "train_datagen = ImageDataGenerator(\n",
        "    rescale=1./255,\n",
        "    validation_split=0.2  # 20% for validation split\n",
        ")\n",
        "\n",
        "# Load and prepare data from the directory, split by 'training' and 'validation'\n",
        "train_data = train_datagen.flow_from_directory(\n",
        "    \"/content/drive/MyDrive/Faulty_solar_panel\",  # Path to your main folder\n",
        "    target_size=(256, 256),  # Resize all images to 256x256\n",
        "    batch_size=32,\n",
        "    class_mode='binary',  # Binary classification\n",
        "    subset='training'  # Use the 'training' subset (80% of data)\n",
        ")\n",
        "\n",
        "# Validation data (using the same directory and validation split)\n",
        "validation_data = train_datagen.flow_from_directory(\n",
        "    \"/content/drive/MyDrive/Faulty_solar_panel\",  # Path to your main folder\n",
        "    target_size=(256, 256),  # Resize all images to 256x256\n",
        "    batch_size=32,\n",
        "    class_mode='binary',  # Binary classification\n",
        "    subset='validation'  # Use the 'validation' subset (20% of data)\n",
        ")\n",
        "\n",
        "# Create the model with ResNet50 as base\n",
        "resnet_model = Sequential()\n",
        "\n",
        "# Load the pre-trained ResNet50 model without the top layers (to use it for feature extraction)\n",
        "pretrained_model = tf.keras.applications.ResNet50(\n",
        "    include_top=False,  # Exclude the original fully connected layers\n",
        "    input_shape=(256, 256, 3),  # Set the input shape to match your image dimensions\n",
        "    pooling='max',  # Use global max pooling\n",
        "    weights='imagenet'  # Load pre-trained ImageNet weights\n",
        ")\n",
        "\n",
        "# Freeze all layers in the pre-trained model\n",
        "for layer in pretrained_model.layers:\n",
        "    layer.trainable = False  # Keep the pre-trained weights frozen\n",
        "\n",
        "# Add the pre-trained ResNet50 model and custom layers\n",
        "resnet_model.add(pretrained_model)\n",
        "resnet_model.add(Flatten())  # Flatten the output for fully connected layers\n",
        "resnet_model.add(Dense(512, activation='relu'))  # Dense layer with 512 units\n",
        "resnet_model.add(Dense(1, activation='sigmoid'))  # Output layer for binary classification\n",
        "\n",
        "# Compile the model\n",
        "resnet_model.compile(optimizer=Adam(learning_rate=0.001), loss='binary_crossentropy', metrics=['accuracy'])\n",
        "\n",
        "# Train the model on your dataset\n",
        "history = resnet_model.fit(train_data, epochs=20, validation_data=validation_data)\n",
        "\n",
        "# Optionally, plot the training vs validation accuracy and loss (if needed)\n",
        "import matplotlib.pyplot as plt\n",
        "\n",
        "# Plot training vs validation accuracy\n",
        "plt.plot(history.history['accuracy'], color='red', label='train')\n",
        "plt.plot(history.history['val_accuracy'], color='blue', label='validation')\n",
        "plt.title('Training vs Validation Accuracy')\n",
        "plt.xlabel('Epochs')\n",
        "plt.ylabel('Accuracy')\n",
        "plt.legend()\n",
        "plt.show()\n",
        "\n",
        "# Plot training vs validation loss\n",
        "plt.plot(history.history['loss'], color='red', label='train')\n",
        "plt.plot(history.history['val_loss'], color='blue', label='validation')\n",
        "plt.title('Training vs Validation Loss')\n",
        "plt.xlabel('Epochs')\n",
        "plt.ylabel('Loss')\n",
        "plt.legend()\n",
        "plt.show()\n"
      ],
      "metadata": {
        "colab": {
          "base_uri": "https://localhost:8080/"
        },
        "id": "TZHf8TJr9sUF",
        "outputId": "4c3dbf8f-f179-402e-cb05-d300b44bd4c3"
      },
      "execution_count": null,
      "outputs": [
        {
          "metadata": {
            "tags": null
          },
          "name": "stdout",
          "output_type": "stream",
          "text": [
            "Found 601 images belonging to 2 classes.\n",
            "Found 149 images belonging to 2 classes.\n",
            "Downloading data from https://storage.googleapis.com/tensorflow/keras-applications/resnet/resnet50_weights_tf_dim_ordering_tf_kernels_notop.h5\n",
            "\u001b[1m94765736/94765736\u001b[0m \u001b[32m━━━━━━━━━━━━━━━━━━━━\u001b[0m\u001b[37m\u001b[0m \u001b[1m2s\u001b[0m 0us/step\n",
            "Epoch 1/20\n"
          ]
        },
        {
          "metadata": {
            "tags": null
          },
          "name": "stderr",
          "output_type": "stream",
          "text": [
            "/usr/local/lib/python3.10/dist-packages/keras/src/trainers/data_adapters/py_dataset_adapter.py:122: UserWarning: Your `PyDataset` class should call `super().__init__(**kwargs)` in its constructor. `**kwargs` can include `workers`, `use_multiprocessing`, `max_queue_size`. Do not pass these arguments to `fit()`, as they will be ignored.\n",
            "  self._warn_if_super_not_called()\n"
          ]
        },
        {
          "output_type": "stream",
          "name": "stdout",
          "text": [
            "\u001b[1m19/19\u001b[0m \u001b[32m━━━━━━━━━━━━━━━━━━━━\u001b[0m\u001b[37m\u001b[0m \u001b[1m225s\u001b[0m 11s/step - accuracy: 0.6236 - loss: 4.1993 - val_accuracy: 0.6913 - val_loss: 2.2388\n",
            "Epoch 2/20\n",
            "\u001b[1m19/19\u001b[0m \u001b[32m━━━━━━━━━━━━━━━━━━━━\u001b[0m\u001b[37m\u001b[0m \u001b[1m256s\u001b[0m 11s/step - accuracy: 0.7468 - loss: 1.2107 - val_accuracy: 0.6644 - val_loss: 0.8251\n",
            "Epoch 3/20\n",
            "\u001b[1m19/19\u001b[0m \u001b[32m━━━━━━━━━━━━━━━━━━━━\u001b[0m\u001b[37m\u001b[0m \u001b[1m210s\u001b[0m 11s/step - accuracy: 0.6605 - loss: 0.6812 - val_accuracy: 0.7315 - val_loss: 0.6917\n",
            "Epoch 4/20\n",
            "\u001b[1m19/19\u001b[0m \u001b[32m━━━━━━━━━━━━━━━━━━━━\u001b[0m\u001b[37m\u001b[0m \u001b[1m211s\u001b[0m 11s/step - accuracy: 0.8214 - loss: 0.4679 - val_accuracy: 0.7919 - val_loss: 0.5515\n",
            "Epoch 5/20\n",
            "\u001b[1m19/19\u001b[0m \u001b[32m━━━━━━━━━━━━━━━━━━━━\u001b[0m\u001b[37m\u001b[0m \u001b[1m262s\u001b[0m 11s/step - accuracy: 0.8193 - loss: 0.4042 - val_accuracy: 0.7450 - val_loss: 0.5049\n",
            "Epoch 6/20\n",
            "\u001b[1m19/19\u001b[0m \u001b[32m━━━━━━━━━━━━━━━━━━━━\u001b[0m\u001b[37m\u001b[0m \u001b[1m209s\u001b[0m 11s/step - accuracy: 0.8232 - loss: 0.4032 - val_accuracy: 0.7517 - val_loss: 0.5939\n",
            "Epoch 7/20\n",
            "\u001b[1m19/19\u001b[0m \u001b[32m━━━━━━━━━━━━━━━━━━━━\u001b[0m\u001b[37m\u001b[0m \u001b[1m264s\u001b[0m 11s/step - accuracy: 0.8404 - loss: 0.3732 - val_accuracy: 0.7584 - val_loss: 0.5087\n",
            "Epoch 8/20\n",
            "\u001b[1m19/19\u001b[0m \u001b[32m━━━━━━━━━━━━━━━━━━━━\u001b[0m\u001b[37m\u001b[0m \u001b[1m260s\u001b[0m 11s/step - accuracy: 0.8533 - loss: 0.3412 - val_accuracy: 0.7785 - val_loss: 0.4756\n",
            "Epoch 9/20\n",
            "\u001b[1m19/19\u001b[0m \u001b[32m━━━━━━━━━━━━━━━━━━━━\u001b[0m\u001b[37m\u001b[0m \u001b[1m209s\u001b[0m 11s/step - accuracy: 0.8737 - loss: 0.3525 - val_accuracy: 0.7785 - val_loss: 0.5256\n",
            "Epoch 10/20\n",
            "\u001b[1m19/19\u001b[0m \u001b[32m━━━━━━━━━━━━━━━━━━━━\u001b[0m\u001b[37m\u001b[0m \u001b[1m305s\u001b[0m 13s/step - accuracy: 0.8653 - loss: 0.3523 - val_accuracy: 0.7584 - val_loss: 0.6065\n",
            "Epoch 11/20\n",
            "\u001b[1m19/19\u001b[0m \u001b[32m━━━━━━━━━━━━━━━━━━━━\u001b[0m\u001b[37m\u001b[0m \u001b[1m259s\u001b[0m 13s/step - accuracy: 0.8579 - loss: 0.3209 - val_accuracy: 0.7785 - val_loss: 0.5321\n",
            "Epoch 12/20\n",
            "\u001b[1m19/19\u001b[0m \u001b[32m━━━━━━━━━━━━━━━━━━━━\u001b[0m\u001b[37m\u001b[0m \u001b[1m224s\u001b[0m 11s/step - accuracy: 0.8924 - loss: 0.3032 - val_accuracy: 0.7584 - val_loss: 0.5932\n",
            "Epoch 13/20\n",
            "\u001b[1m19/19\u001b[0m \u001b[32m━━━━━━━━━━━━━━━━━━━━\u001b[0m\u001b[37m\u001b[0m \u001b[1m261s\u001b[0m 11s/step - accuracy: 0.8650 - loss: 0.3119 - val_accuracy: 0.7584 - val_loss: 0.5883\n",
            "Epoch 14/20\n"
          ]
        }
      ]
    },
    {
      "cell_type": "code",
      "source": [
        "# Generate predictions on validation data\n",
        "predictions = resnet_model.predict(validation_data)\n",
        "\n",
        "from sklearn.metrics import confusion_matrix, classification_report\n",
        "import numpy as np\n",
        "\n",
        "# Get the true labels from the validation data\n",
        "true_labels = validation_data.classes\n",
        "\n",
        "# Convert predicted probabilities to binary labels\n",
        "predicted_labels = (predictions > 0.5).astype(int).flatten()  # Flatten to match the shape of true_labels\n",
        "\n",
        "# Calculate confusion matrix\n",
        "cm = confusion_matrix(true_labels, predicted_labels)\n",
        "\n",
        "# Print confusion matrix\n",
        "print(\"Confusion Matrix:\")\n",
        "print(cm)\n",
        "\n",
        "# Print classification report\n",
        "print(\"Classification Report:\")\n",
        "print(classification_report(true_labels, predicted_labels, target_names=list(validation_data.class_indices.keys())))\n",
        "\n",
        "# Visualize confusion matrix (optional)\n",
        "import seaborn as sns\n",
        "import matplotlib.pyplot as plt\n",
        "\n",
        "plt.figure(figsize=(8, 6))\n",
        "sns.heatmap(cm, annot=True, fmt=\"d\", cmap=\"Blues\", xticklabels=validation_data.class_indices.keys(), yticklabels=validation_data.class_indices.keys())\n",
        "plt.xlabel('Predicted Labels')\n",
        "plt.ylabel('True Labels')\n",
        "plt.title('Confusion Matrix')\n",
        "plt.show()\n"
      ],
      "metadata": {
        "id": "BeJ_whXuZv3K"
      },
      "execution_count": null,
      "outputs": []
    }
  ]
}